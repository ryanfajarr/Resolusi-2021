{
  "nbformat": 4,
  "nbformat_minor": 0,
  "metadata": {
    "kernelspec": {
      "display_name": "blenv3",
      "language": "python",
      "name": "blenv3"
    },
    "language_info": {
      "codemirror_mode": {
        "name": "ipython",
        "version": 3
      },
      "file_extension": ".py",
      "mimetype": "text/x-python",
      "name": "python",
      "nbconvert_exporter": "python",
      "pygments_lexer": "ipython3",
      "version": "3.6.8"
    },
    "toc": {
      "base_numbering": 1,
      "nav_menu": {},
      "number_sections": true,
      "sideBar": true,
      "skip_h1_title": false,
      "title_cell": "Table of Contents",
      "title_sidebar": "Contents",
      "toc_cell": false,
      "toc_position": {},
      "toc_section_display": true,
      "toc_window_display": true
    },
    "colab": {
      "provenance": [],
      "include_colab_link": true
    }
  },
  "cells": [
    {
      "cell_type": "markdown",
      "metadata": {
        "id": "view-in-github",
        "colab_type": "text"
      },
      "source": [
        "<a href=\"https://colab.research.google.com/github/ryanfajarr/Resolusi-2021/blob/main/Introduction_to_Python_Template_Homework_(Ryan_Fajar).ipynb\" target=\"_parent\"><img src=\"https://colab.research.google.com/assets/colab-badge.svg\" alt=\"Open In Colab\"/></a>"
      ]
    },
    {
      "cell_type": "markdown",
      "metadata": {
        "heading_collapsed": true,
        "id": "IQZPHNVGE0jj"
      },
      "source": [
        "# Homework Introduction to Python"
      ]
    },
    {
      "cell_type": "markdown",
      "metadata": {
        "hidden": true,
        "id": "yKMR8ypqE0jn"
      },
      "source": [
        "$\\textbf{Ubah nama di bawah yaa!}$"
      ]
    },
    {
      "cell_type": "markdown",
      "metadata": {
        "hidden": true,
        "id": "bQ7VJlKEE0jo"
      },
      "source": [
        "Nama: Ryan Fajar Ramadhan"
      ]
    },
    {
      "cell_type": "code",
      "metadata": {
        "ExecuteTime": {
          "end_time": "2020-11-12T13:26:22.209983Z",
          "start_time": "2020-11-12T13:26:21.360470Z"
        },
        "hidden": true,
        "id": "4g2oLkevE0jo"
      },
      "source": [
        "import numpy as np\n",
        "\n",
        "# please import as much as you need"
      ],
      "execution_count": null,
      "outputs": []
    },
    {
      "cell_type": "markdown",
      "metadata": {
        "id": "cgd-tTOjE0jr"
      },
      "source": [
        "# Normal"
      ]
    },
    {
      "cell_type": "markdown",
      "metadata": {
        "heading_collapsed": true,
        "id": "ed8OiWGeE0jr"
      },
      "source": [
        "## 1. Operasi Variabel\n",
        "\n",
        "> Misal kita memiliki toko sepatu. Modal membeli 1 kodi sepatu adalah Rp 1.000.000. Setiap sepatu dijual seharga Rp 80.000. Buatlah variabel modal, kuantitas, dan harga_jual sesuai informasi di atas. Hitung profit yang didapatkan jika semua sepatu berhasil terjual, dan masukkan ke variabel profit.\n",
        "\n",
        "Saran langkah-langkah pengerjaan\n",
        "1. Convert terlebih dahulu kodi dalam jumlah barang (1 kodi = xyz buah sepatu)\n",
        "2. Gunakan operasi matematika sederhana untuk menghitung profit menggunakan tiga buah variabel yang sudah ditentukan"
      ]
    },
    {
      "cell_type": "code",
      "metadata": {
        "ExecuteTime": {
          "end_time": "2021-10-23T10:20:16.843127Z",
          "start_time": "2021-10-23T10:20:16.835236Z"
        },
        "hidden": true,
        "scrolled": true,
        "id": "ThOB9tEME0js",
        "colab": {
          "base_uri": "https://localhost:8080/"
        },
        "outputId": "d3f9753a-9f8e-4456-dc99-316b1906cd4d"
      },
      "source": [
        "# Menetapkan nilai variabel\n",
        "modal_per_kodi = 1000000  # Modal per kodi sepatu\n",
        "harga_jual_per_sepatu = 80000  # Harga jual per sepatu\n",
        "kodi_per_barang = 20  # Jumlah sepatu per kodi\n",
        "\n",
        "# Menghitung jumlah modal untuk satu sepatu\n",
        "modal_per_sepatu = modal_per_kodi / kodi_per_barang\n",
        "\n",
        "# Menentukan jumlah sepatu yang akan dibeli\n",
        "kuantitas = 100  # Misalnya, kita membeli 100 sepatu\n",
        "\n",
        "# Menghitung total modal\n",
        "total_modal = modal_per_sepatu * kuantitas\n",
        "\n",
        "# Menghitung total pendapatan dari penjualan\n",
        "total_pendapatan = harga_jual_per_sepatu * kuantitas\n",
        "\n",
        "# Menghitung profit\n",
        "profit = total_pendapatan - total_modal\n",
        "\n",
        "# Menampilkan hasil\n",
        "print(f\"Modal per sepatu: Rp {modal_per_sepatu}\")\n",
        "print(f\"Total modal: Rp {total_modal}\")\n",
        "print(f\"Total pendapatan: Rp {total_pendapatan}\")\n",
        "print(f\"Profit: Rp {profit}\")"
      ],
      "execution_count": null,
      "outputs": [
        {
          "output_type": "stream",
          "name": "stdout",
          "text": [
            "Modal per sepatu: Rp 50000.0\n",
            "Total modal: Rp 5000000.0\n",
            "Total pendapatan: Rp 8000000\n",
            "Profit: Rp 3000000.0\n"
          ]
        }
      ]
    },
    {
      "cell_type": "markdown",
      "metadata": {
        "hidden": true,
        "id": "8GaDbS89E0js"
      },
      "source": [
        "Jadi, dari profit di atas, dapat disimpulkan bahwa bisnis penjualan sepatu mendapatkan keuntungan sekitar Rp 3,000,000."
      ]
    },
    {
      "cell_type": "markdown",
      "metadata": {
        "id": "5oTZCAI4E0ju"
      },
      "source": [
        "## 2. Package Python dan Dictionary\n",
        "\n",
        "> Kita akan coba mengakses data scientific article dari PLOS corpus\n",
        "    Menggunakan API request dengan kode berikut :\n",
        "```\n",
        "import requests\n",
        "response = requests.get('http://api.plos.org/search?q=title:\"Drosophila\" AND body:\"RNA\"&fl=id,abstract')\n",
        "```\n",
        "**perhatikan tanda kutipnya tidak salah ketika meng-copy ke dalam python\n",
        "\n",
        "Pertanyaannya :\n",
        "Convert response.content dari request tersebut dari JSON Format ke dalam Dictionary, dan print-kan key di dalamnya apa saja\n",
        "\n",
        "Saran langkah-langkah pengerjaan\n",
        "1. Ikuti code dari soal, kemudian ekstrak value dari variable response menggunakan dot (.) content menjadi sebuah variabel baru (dictionary)\n",
        "2. Gunakan library json, convert hasil content menggunakan json.loads\n",
        "3. Print keys dari dictionary tersebut\n"
      ]
    },
    {
      "cell_type": "code",
      "metadata": {
        "ExecuteTime": {
          "end_time": "2021-10-23T10:20:40.890513Z",
          "start_time": "2021-10-23T10:20:40.882963Z"
        },
        "id": "RY1kdZAUE0ju",
        "colab": {
          "base_uri": "https://localhost:8080/"
        },
        "outputId": "bf5eeb86-0781-4752-9126-e2d0d94d9c84"
      },
      "source": [
        "import requests\n",
        "import json\n",
        "\n",
        "# Mendapatkan response dari API\n",
        "response = requests.get('http://api.plos.org/search?q=title:\"Drosophila\" AND body:\"RNA\"&fl=id,abstract')\n",
        "\n",
        "# Mengekstrak nilai dari response.content dan mengubahnya menjadi dictionary\n",
        "data_dict = json.loads(response.content)\n",
        "\n",
        "# Mencetak keys dari dictionary\n",
        "print(\"Keys dalam dictionary:\")\n",
        "for key in data_dict.keys():\n",
        "    print(key)"
      ],
      "execution_count": null,
      "outputs": [
        {
          "output_type": "stream",
          "name": "stdout",
          "text": [
            "Keys dalam dictionary:\n",
            "response\n"
          ]
        }
      ]
    },
    {
      "cell_type": "markdown",
      "metadata": {
        "id": "rvQnd_NgE0jv"
      },
      "source": [
        "Jadi, dari url link di atas, kami menyimpulkan bahwa memiliki keys \"response\". Untuk informasi lebih lanjut, Anda perlu melihat struktur data di dalam kunci \"response\".\n",
        "\n"
      ]
    },
    {
      "cell_type": "markdown",
      "metadata": {
        "id": "wWstgpwIPDwR"
      },
      "source": [
        "# Intermediate"
      ]
    },
    {
      "cell_type": "markdown",
      "metadata": {
        "id": "AI0lJNgDE0jv"
      },
      "source": [
        "## 3. Operasi dalam List\n",
        "\n",
        "> Buatlah list dengan 10 nama kota di indonesia, kemudian:\n",
        "1. Urutkan nama kota di dalam list berdasarkan abjad (a)\n",
        "2. Ambil 4 kota pertama dari list tersebut (yang telah diurutkan) (b)\n",
        "3. Ambil 3 kota terakhir dari list tersebut (yang telah diurutkan) (c)\n",
        "\n",
        "Saran langkah-langkah pengerjaan\n",
        "1. Tidak ada ketentuan nama kota (misal berdasarkan provinsi X atau pulau Y), dibebaskan untuk memilih. Buat nama-nama kota tersebut dalam sebuah list.\n",
        "2. Gunakan fungsi sorted(X) untuk mengurutkan secara kecil-ke-besar (sesuai abjad), dimana X adalah contoh variabel list pada langkah (a)\n",
        "3. Gunakan hasil poin (a), urutkan nama kota di dalam list berdasarkan abjad, untuk mengerjakan poin (b) dan (c)."
      ]
    },
    {
      "cell_type": "code",
      "metadata": {
        "ExecuteTime": {
          "end_time": "2021-10-23T10:20:47.306584Z",
          "start_time": "2021-10-23T10:20:47.299827Z"
        },
        "scrolled": true,
        "id": "piGxWfIAE0jw",
        "colab": {
          "base_uri": "https://localhost:8080/"
        },
        "outputId": "d7f4a4cd-788a-4c2b-ba7b-4934181fadb3"
      },
      "source": [
        "# Buat list dengan 10 nama kota di Indonesia\n",
        "nama_kota = [\"Surabaya\", \"Jakarta\", \"Bandung\", \"Medan\", \"Makassar\", \"Semarang\", \"Yogyakarta\", \"Malang\", \"Bali\", \"Pekanbaru\"]\n",
        "\n",
        "# Urutkan nama kota berdasarkan abjad\n",
        "kota_urut = sorted(nama_kota)\n",
        "\n",
        "# Ambil 4 kota pertama dari list yang telah diurutkan\n",
        "kota_pertama = kota_urut[:4]\n",
        "\n",
        "# Ambil 3 kota terakhir dari list yang telah diurutkan\n",
        "kota_terakhir = kota_urut[-3:]\n",
        "\n",
        "# Tampilkan hasil\n",
        "print(\"List nama kota:\", nama_kota)\n",
        "print(\"List nama kota yang diurutkan:\", kota_urut)\n",
        "print(\"4 kota pertama yang diurutkan:\", kota_pertama)\n",
        "print(\"3 kota terakhir yang diurutkan:\", kota_terakhir)"
      ],
      "execution_count": null,
      "outputs": [
        {
          "output_type": "stream",
          "name": "stdout",
          "text": [
            "List nama kota: ['Surabaya', 'Jakarta', 'Bandung', 'Medan', 'Makassar', 'Semarang', 'Yogyakarta', 'Malang', 'Bali', 'Pekanbaru']\n",
            "List nama kota yang diurutkan: ['Bali', 'Bandung', 'Jakarta', 'Makassar', 'Malang', 'Medan', 'Pekanbaru', 'Semarang', 'Surabaya', 'Yogyakarta']\n",
            "4 kota pertama yang diurutkan: ['Bali', 'Bandung', 'Jakarta', 'Makassar']\n",
            "3 kota terakhir yang diurutkan: ['Semarang', 'Surabaya', 'Yogyakarta']\n"
          ]
        }
      ]
    },
    {
      "cell_type": "markdown",
      "metadata": {
        "id": "FpbGs5EaE0jw"
      },
      "source": [
        "Jadi, dari operasi list di atas, dapat disimpulkan bahwa\n",
        "List nama kota awal: ['Surabaya', 'Jakarta', 'Bandung', 'Medan', 'Makassar', 'Semarang', 'Yogyakarta', 'Malang', 'Bali', 'Pekanbaru']\n",
        "List nama kota yang diurutkan: ['Bali', 'Bandung', 'Jakarta', 'Makassar', 'Malang', 'Medan', 'Pekanbaru', 'Semarang', 'Surabaya', 'Yogyakarta']\n",
        "4 kota pertama yang diurutkan: ['Bali', 'Bandung', 'Jakarta', 'Makassar']\n",
        "3 kota terakhir yang diurutkan: ['Semarang', 'Surabaya', 'Yogyakarta']\n"
      ]
    },
    {
      "cell_type": "markdown",
      "metadata": {
        "id": "6nanVjCCE0jx"
      },
      "source": [
        "## 4. Function dalam List\n",
        "\n",
        "> Team sales memiliki list total transaksi dari 10 merchant pada bulan Juni 2020, yaitu:\n",
        "```\n",
        "total_transaksi = [ 19, 35, 23, 25, 10, 15, 33, 45, 21, 30 ]\n",
        "```\n",
        "1. Trx minimum\n",
        "2. Rata-rata\n",
        "3. Trx maksimal\n",
        "\n",
        "Saran langkah-langkah pengerjaan\n",
        "1. Copy variabel total_transaksi yang ada di soal ke notebook kita (atau ketik ulang boleh)\n",
        "2. Kemudian, hitung menggunakan function operasi dalam list yang telah dipelajari di kelas pada topik list. Print hasilnya setiap poin (a), (b), dan (c)"
      ]
    },
    {
      "cell_type": "code",
      "metadata": {
        "ExecuteTime": {
          "end_time": "2021-10-23T10:20:52.903045Z",
          "start_time": "2021-10-23T10:20:52.894900Z"
        },
        "scrolled": true,
        "id": "HxvjrB2RE0jx",
        "colab": {
          "base_uri": "https://localhost:8080/"
        },
        "outputId": "bc889d76-59a4-4629-fea9-42e6d1c3717c"
      },
      "source": [
        "# Copy variabel total_transaksi\n",
        "total_transaksi = [19, 35, 23, 25, 10, 15, 33, 45, 21, 30]\n",
        "\n",
        "# (a) Hitung nilai minimum\n",
        "trx_minimum = min(total_transaksi)\n",
        "\n",
        "# (b) Hitung rata-rata\n",
        "rata_rata_trx = sum(total_transaksi) / len(total_transaksi)\n",
        "\n",
        "# (c) Hitung nilai maksimum\n",
        "trx_maksimum = max(total_transaksi)\n",
        "\n",
        "# Print hasilnya\n",
        "print(\"Total Transaksi:\", total_transaksi)\n",
        "print(\"(a) Transaksi Minimum:\", trx_minimum)\n",
        "print(\"(b) Rata-rata Transaksi:\", rata_rata_trx)\n",
        "print(\"(c) Transaksi Maksimum:\", trx_maksimum)"
      ],
      "execution_count": null,
      "outputs": [
        {
          "output_type": "stream",
          "name": "stdout",
          "text": [
            "Total Transaksi: [19, 35, 23, 25, 10, 15, 33, 45, 21, 30]\n",
            "(a) Transaksi Minimum: 10\n",
            "(b) Rata-rata Transaksi: 25.6\n",
            "(c) Transaksi Maksimum: 45\n"
          ]
        }
      ]
    },
    {
      "cell_type": "markdown",
      "metadata": {
        "id": "UgHXbAOqE0jx"
      },
      "source": [
        "Jadi, dari hasil operasi list di atas, dapat disimpulkan bahwa:\n",
        "\n",
        "(a) Nilai transaksi minimum adalah 10.\n",
        "(b) Rata-rata transaksi adalah 25.6.\n",
        "(c) Nilai transaksi maksimum adalah 45."
      ]
    },
    {
      "cell_type": "markdown",
      "metadata": {
        "id": "f4EkwISgE0jx"
      },
      "source": [
        "# Advanced"
      ]
    },
    {
      "cell_type": "markdown",
      "metadata": {
        "id": "fmaX-pu5E0jy"
      },
      "source": [
        "## 5. NumPy Array\n",
        "\n",
        "> Buatlah array dari 5 bilangan ganjil pertama (dimulai dari 1), Kemudian lakukan perintah berikut :\n",
        "1. Kali-kan array tersebut dengan 10\n",
        "2. Bagi-kan array (hasil dari bagian a) dengan 3\n",
        "3. Kali-kan array (hasil dari bagian b) dengan array baru :\n",
        "`[-45, 43, 3, 56, 5]`\n",
        "4. Carilah pada index ke-berapa nilai tertinggi dan terendah dari array (hasil dari bagian c)\n",
        "\n",
        "Saran langkah-langkah pengerjaan\n",
        "1. HATI-HATI dalam pengerjaan, karena apabila poin sebelumnya salah, maka selanjutnya akan kebawa salah (misal (b) salah, maka poin (c) sampai (d) akan salah)\n",
        "2. Untuk array 5 bilangan ganjil pertama boleh manual boleh menggunakan fungsi, dimulai dari 1\n",
        "3. Ikuti perintah soal, gunakan numpy array, jangan list. Sesuaikan dengan permintaan soal pada setiap butir.\n",
        "\n"
      ]
    },
    {
      "cell_type": "code",
      "metadata": {
        "ExecuteTime": {
          "end_time": "2021-10-23T10:20:59.988806Z",
          "start_time": "2021-10-23T10:20:59.980744Z"
        },
        "scrolled": true,
        "id": "VTTOjU8wE0jy",
        "colab": {
          "base_uri": "https://localhost:8080/"
        },
        "outputId": "35817822-2a88-4fe6-921d-1ccd0cb6184d"
      },
      "source": [
        "import numpy as np\n",
        "\n",
        "# (a) Membuat array dari 5 bilangan ganjil pertama\n",
        "array_awal = np.array([1, 3, 5, 7, 9])\n",
        "\n",
        "# (b) Kali-kan array dengan 10\n",
        "array_kali_10 = array_awal * 10\n",
        "\n",
        "# (c) Bagi-kan array (hasil dari b) dengan 3\n",
        "array_bagi_3 = array_kali_10 / 3\n",
        "\n",
        "# Membuat array baru\n",
        "array_baru = np.array([-45, 43, 3, 56, 5])\n",
        "\n",
        "# (d) Kali-kan array (hasil dari c) dengan array baru\n",
        "array_hasil_akhir = array_bagi_3 * array_baru\n",
        "\n",
        "# (e) Cari index nilai tertinggi dan terendah dari array hasil akhir\n",
        "index_tertinggi = np.argmax(array_hasil_akhir)\n",
        "index_terendah = np.argmin(array_hasil_akhir)\n",
        "\n",
        "# Menampilkan hasil\n",
        "print(\"(a) Array dari 5 bilangan ganjil pertama:\", array_awal)\n",
        "print(\"(b) Array dikali 10:\", array_kali_10)\n",
        "print(\"(c) Array dibagi 3:\", array_bagi_3)\n",
        "print(\"(d) Array dikali array baru:\", array_hasil_akhir)\n",
        "print(\"(e) Index nilai tertinggi:\", index_tertinggi)\n",
        "print(\"    Index nilai terendah:\", index_terendah)"
      ],
      "execution_count": null,
      "outputs": [
        {
          "output_type": "stream",
          "name": "stdout",
          "text": [
            "(a) Array dari 5 bilangan ganjil pertama: [1 3 5 7 9]\n",
            "(b) Array dikali 10: [10 30 50 70 90]\n",
            "(c) Array dibagi 3: [ 3.33333333 10.         16.66666667 23.33333333 30.        ]\n",
            "(d) Array dikali array baru: [-150.          430.           50.         1306.66666667  150.        ]\n",
            "(e) Index nilai tertinggi: 3\n",
            "    Index nilai terendah: 0\n"
          ]
        }
      ]
    },
    {
      "cell_type": "markdown",
      "metadata": {
        "id": "wTkMvK_EE0jy"
      },
      "source": [
        "Jadi, dari hasil operasi numpy di atas, dapat disimpulkan bahwa...\n",
        "(a) Array dari 5 bilangan ganjil pertama: [1 3 5 7 9]\n",
        "(b) Array dikali 10: [10 30 50 70 90]\n",
        "(c) Array dibagi 3: [3.33333333 10. 16.66666667 23.33333333 30. ]\n",
        "(d) Array dikali array baru: [-150. 430. 50. 1306.66666667 150. ]\n",
        "(e) Index nilai tertinggi: 3\n",
        "Index nilai terendah: 0\n",
        "\n"
      ]
    },
    {
      "cell_type": "markdown",
      "metadata": {
        "id": "LLIlxgN3Pmwj"
      },
      "source": [
        "# Terimakasih, salam dari ... (Tangerang Selatan)"
      ]
    },
    {
      "cell_type": "code",
      "source": [
        "jupyter nbconvert --to html \"Copy_of_Introduction_to_Python_Template_Homework\"\n"
      ],
      "metadata": {
        "colab": {
          "base_uri": "https://localhost:8080/",
          "height": 140
        },
        "id": "m25GHgn4DiV5",
        "outputId": "94adc998-dba6-4fae-e02e-78d2e961b7ab"
      },
      "execution_count": 8,
      "outputs": [
        {
          "output_type": "error",
          "ename": "SyntaxError",
          "evalue": "invalid syntax (<ipython-input-8-b1db14467eed>, line 1)",
          "traceback": [
            "\u001b[0;36m  File \u001b[0;32m\"<ipython-input-8-b1db14467eed>\"\u001b[0;36m, line \u001b[0;32m1\u001b[0m\n\u001b[0;31m    jupyter nbconvert --to html \"Copy_of_Introduction_to_Python_Template_Homework\"\u001b[0m\n\u001b[0m            ^\u001b[0m\n\u001b[0;31mSyntaxError\u001b[0m\u001b[0;31m:\u001b[0m invalid syntax\n"
          ]
        }
      ]
    }
  ]
}